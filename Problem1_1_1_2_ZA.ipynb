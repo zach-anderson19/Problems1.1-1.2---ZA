{
  "nbformat": 4,
  "nbformat_minor": 0,
  "metadata": {
    "colab": {
      "provenance": [],
      "authorship_tag": "ABX9TyNShBjFTAp4OfvLjqQlpA2h",
      "include_colab_link": true
    },
    "kernelspec": {
      "name": "python3",
      "display_name": "Python 3"
    },
    "language_info": {
      "name": "python"
    }
  },
  "cells": [
    {
      "cell_type": "markdown",
      "metadata": {
        "id": "view-in-github",
        "colab_type": "text"
      },
      "source": [
        "<a href=\"https://colab.research.google.com/github/zach-anderson19/Problems1.1-1.2---ZA/blob/main/Problem1_1_1_2_ZA.ipynb\" target=\"_parent\"><img src=\"https://colab.research.google.com/assets/colab-badge.svg\" alt=\"Open In Colab\"/></a>"
      ]
    },
    {
      "cell_type": "code",
      "execution_count": null,
      "metadata": {
        "colab": {
          "base_uri": "https://localhost:8080/"
        },
        "id": "HHQGxgLoN56h",
        "outputId": "df7d3027-586c-4f93-b0f4-16e90ed42cf8"
      },
      "outputs": [
        {
          "output_type": "stream",
          "name": "stdout",
          "text": [
            "Number of vowels: 5\n"
          ]
        }
      ],
      "source": [
        "#coding problem 1.1\n",
        "\n",
        "s = 'azcbobobegghakl'\n",
        "count = 0\n",
        "\n",
        "for i in s:\n",
        "  if i =='a' or i == 'e' or i == 'i' or i == 'o' or i == 'u':\n",
        "    count += 1\n",
        "\n",
        "print('Number of vowels: ' + str(count))\n",
        "\n"
      ]
    },
    {
      "cell_type": "code",
      "source": [
        "#coding problem 1.2\n",
        "\n",
        "s = 'azcbobobegghakl'\n",
        "count = 0\n",
        "\n",
        "for i in range(len(s)-2):\n",
        "  if s[i:i+3] == 'bob':\n",
        "    count += 1\n",
        "\n",
        "print('Number of times bob occurs is: ' + str(count))"
      ],
      "metadata": {
        "colab": {
          "base_uri": "https://localhost:8080/"
        },
        "id": "ztYsRApYPJXr",
        "outputId": "66afabef-7df7-4f43-b7aa-a58b6f6cb8ed"
      },
      "execution_count": null,
      "outputs": [
        {
          "output_type": "stream",
          "name": "stdout",
          "text": [
            "Number of times bob occurs is: 2\n"
          ]
        }
      ]
    }
  ]
}